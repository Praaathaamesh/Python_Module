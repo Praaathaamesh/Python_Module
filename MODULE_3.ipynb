{
 "cells": [
  {
   "cell_type": "markdown",
   "metadata": {},
   "source": [
    "# FUNCTIONS\n",
    "\n"
   ]
  },
  {
   "cell_type": "markdown",
   "metadata": {},
   "source": [
    "#### What is a function?\n",
    "* Group of releted statements that perform a specific task\n",
    "* For organisation and management of the program (Breaks the prog into the chunks and makes it managable.)\n",
    "also,\n",
    "makes code reusable (avoids the repetition of same code block again and again.)\n"
   ]
  },
  {
   "cell_type": "markdown",
   "metadata": {},
   "source": [
    "#### Function declaration and its components\n",
    "    def functionname(parameters): #FUNCTION HEADER\n",
    "        \"\"\"\"Docstrings\"\"\"\n",
    "        a statement or multiple statements\n",
    "\n",
    "\n",
    "    * def: a keyword at the start of the funtion header\n",
    "    * functionname: Identifier\n",
    "    * parameters: are the argumens of the function(optional)\n",
    "    * colon : a delimiter,  end the header\n",
    "    * Function body:  made up by the statementts or a statement\n",
    "    * return: a statement that is used to exit a function and go back to where it was called. \n",
    "    not present inside the function\n",
    "        syntax: return(element)\n",
    "    * Docstring: first string after header, denoted by \"\"\"_\"\"\", (optional), explains what function does.\n",
    "    [use .__doc__ attribute of the function to make it availible.]\n"
   ]
  },
  {
   "cell_type": "code",
   "execution_count": 10,
   "metadata": {},
   "outputs": [
    {
     "name": "stdout",
     "output_type": "stream",
     "text": [
      "6\n"
     ]
    }
   ],
   "source": [
    "# EXAMPLE COMPONENTS\n",
    "\n",
    "def abs_val(num):\n",
    "    \"\"\"reyurns the absolute value of the given number\n",
    "    !\"\"\"\n",
    "\n",
    "    if num >= 0 :\n",
    "        return num\n",
    "    else:\n",
    "        return -num\n",
    "\n",
    "# CALLING THE FUNCTION\n",
    "\n",
    "print(abs_val(-6))"
   ]
  },
  {
   "cell_type": "markdown",
   "metadata": {},
   "source": [
    "#### Scope and Lifetime of a variable.\n",
    "\n",
    "* Scope: portion of the function where the variable is recognised.\n",
    "* Lifetime: time till the variable is stored in the memory. when in function, lifetime is destroyed once it is called.\n",
    "\n"
   ]
  },
  {
   "cell_type": "code",
   "execution_count": 16,
   "metadata": {},
   "outputs": [
    {
     "name": "stdout",
     "output_type": "stream",
     "text": [
      "bike\n",
      "car\n",
      "hello\n"
     ]
    }
   ],
   "source": [
    "# SCOPE AND LIFETIME\n",
    "\n",
    "def myvar():\n",
    "    x = 'car' # This variable is a local var to the function\n",
    "    print(x)\n",
    "\n",
    "x = \"bike\"\n",
    "print(x)\n",
    "\n",
    "myvar()\n",
    "\n",
    "# here both x are different variable with different scopes!\n",
    "# hence to change the values of the variables we must make them a global var using GLOBAL keyword!\n",
    "\n",
    "#create a function:\n",
    "def myfunction():\n",
    "  global x\n",
    "  x = \"hello\"\n",
    "\n",
    "#execute the function:\n",
    "myfunction()\n",
    "\n",
    "#x should now be global, and accessible in the global scope.\n",
    "print(x)"
   ]
  },
  {
   "cell_type": "markdown",
   "metadata": {},
   "source": [
    "#### Types \n",
    "\n",
    "* **Based on exiatence:** Built in and User defined\n",
    "* **Based on components:** no arg no return value, no arg yes return value, yes arg no return value, yes arg yes return value"
   ]
  },
  {
   "cell_type": "markdown",
   "metadata": {},
   "source": [
    "#### Arguments\n",
    "\n",
    "* one can use multiple arguments,but they **MUST BE CALLED OR ELSE IT WILL RETURN AN ERROR!**"
   ]
  },
  {
   "cell_type": "code",
   "execution_count": 18,
   "metadata": {},
   "outputs": [
    {
     "name": "stdout",
     "output_type": "stream",
     "text": [
      "hey  geeta  , fuck you!\n"
     ]
    },
    {
     "ename": "TypeError",
     "evalue": "greet() missing 1 required positional argument: 'msg'",
     "output_type": "error",
     "traceback": [
      "\u001b[1;31m---------------------------------------------------------------------------\u001b[0m",
      "\u001b[1;31mTypeError\u001b[0m                                 Traceback (most recent call last)",
      "Cell \u001b[1;32mIn[18], line 10\u001b[0m\n\u001b[0;32m      7\u001b[0m \u001b[38;5;28;01mdef\u001b[39;00m \u001b[38;5;21mgreet\u001b[39m(name, msg):\n\u001b[0;32m      8\u001b[0m     \u001b[38;5;28mprint\u001b[39m(\u001b[38;5;124m\"\u001b[39m\u001b[38;5;124mhey \u001b[39m\u001b[38;5;124m\"\u001b[39m,name, \u001b[38;5;124m\"\u001b[39m\u001b[38;5;124m ,\u001b[39m\u001b[38;5;124m\"\u001b[39m, msg )\n\u001b[1;32m---> 10\u001b[0m \u001b[43mgreet\u001b[49m\u001b[43m(\u001b[49m\u001b[38;5;124;43m\"\u001b[39;49m\u001b[38;5;124;43mgeeta\u001b[39;49m\u001b[38;5;124;43m\"\u001b[39;49m\u001b[43m)\u001b[49m\n",
      "\u001b[1;31mTypeError\u001b[0m: greet() missing 1 required positional argument: 'msg'"
     ]
    }
   ],
   "source": [
    "def greet(name, msg):\n",
    "    print(\"hey \",name, \" ,\", msg )\n",
    "\n",
    "greet(\"geeta\", \"fuck you!\")\n",
    "\n",
    "#ERROR \n",
    "def greet(name, msg):\n",
    "    print(\"hey \",name, \" ,\", msg )\n",
    "\n",
    "greet(\"geeta\")"
   ]
  },
  {
   "cell_type": "markdown",
   "metadata": {},
   "source": [
    "#### ***Types:***\n",
    "\n",
    "* Default argument (arg): using '=' operator. **non def arg cant follow def arg**\n",
    "* Keyword arguments(kwargs): position of the arguments can be changed using this, **Kwargs must follow positional args**\n",
    "* Arbitrary arguments (*args): using \"*\",use when we dont know how many arguments are going to get passed."
   ]
  },
  {
   "cell_type": "code",
   "execution_count": 19,
   "metadata": {},
   "outputs": [
    {
     "ename": "SyntaxError",
     "evalue": "non-default argument follows default argument (69012682.py, line 3)",
     "output_type": "error",
     "traceback": [
      "\u001b[1;36m  Cell \u001b[1;32mIn[19], line 3\u001b[1;36m\u001b[0m\n\u001b[1;33m    def greet(name= \"sangeeta\", msg):\u001b[0m\n\u001b[1;37m                                ^\u001b[0m\n\u001b[1;31mSyntaxError\u001b[0m\u001b[1;31m:\u001b[0m non-default argument follows default argument\n"
     ]
    }
   ],
   "source": [
    "# TYPES OF ARGUMENTS\n",
    "#DEFAULT ARG\n",
    "def greet(name= \"sangeeta\", msg): #non-default argument follows default argument\n",
    "    print(\"hey \",name, \" ,\", msg )\n",
    "\n",
    "greet(\"geeta\", \"fuck you!\")"
   ]
  },
  {
   "cell_type": "code",
   "execution_count": 21,
   "metadata": {},
   "outputs": [
    {
     "name": "stdout",
     "output_type": "stream",
     "text": [
      "hey  geeta  , fuck you!\n",
      "hey  geeta  , Love you!\n"
     ]
    }
   ],
   "source": [
    "#DEFAULT ARG\n",
    "def greet(name, msg = \"Love you!\"):\n",
    "    print(\"hey \",name, \" ,\", msg )\n",
    "\n",
    "greet(\"geeta\", \"fuck you!\")\n",
    "greet(\"geeta\")"
   ]
  },
  {
   "cell_type": "code",
   "execution_count": 24,
   "metadata": {},
   "outputs": [
    {
     "name": "stdout",
     "output_type": "stream",
     "text": [
      "hey  geeta  , love you\n",
      "hey  geeta  , fuck you\n",
      "hey  preet  , fuck you\n"
     ]
    }
   ],
   "source": [
    "#Keyword argument\n",
    "def greet(name, msg):\n",
    "    print(\"hey \",name, \" ,\", msg )\n",
    "\n",
    "greet(\"geeta\", \"love you\")\n",
    "greet(\"geeta\", msg =\"fuck you\")\n",
    "greet(name= \"preet\", msg =\"fuck you\")"
   ]
  },
  {
   "cell_type": "code",
   "execution_count": 25,
   "metadata": {},
   "outputs": [
    {
     "ename": "SyntaxError",
     "evalue": "positional argument follows keyword argument (1174163538.py, line 1)",
     "output_type": "error",
     "traceback": [
      "\u001b[1;36m  Cell \u001b[1;32mIn[25], line 1\u001b[1;36m\u001b[0m\n\u001b[1;33m    greet(name = \"preet\", \"love you\") #Positional argument cannot appear after keyword\u001b[0m\n\u001b[1;37m                                    ^\u001b[0m\n\u001b[1;31mSyntaxError\u001b[0m\u001b[1;31m:\u001b[0m positional argument follows keyword argument\n"
     ]
    }
   ],
   "source": [
    "greet(name = \"preet\", \"love you\") #Positional argument cannot appear after keyword "
   ]
  },
  {
   "cell_type": "code",
   "execution_count": 28,
   "metadata": {},
   "outputs": [
    {
     "name": "stdout",
     "output_type": "stream",
     "text": [
      "hey  ashish  , yooo!\n",
      "hey  malik  , yooo!\n",
      "hey  raj  , yooo!\n"
     ]
    }
   ],
   "source": [
    "# ARBITRARY ARGS\n",
    "\n",
    "def greet(*name, msg= \"yooo!\"):\n",
    "    for i in name:\n",
    "        print(\"hey \",i, \" ,\", msg )\n",
    "greet('ashish','malik','raj')"
   ]
  },
  {
   "cell_type": "markdown",
   "metadata": {},
   "source": [
    "#### RECURSIVE FUNCTION\n",
    "\n",
    "* ***\"FUNCTION THAT CALLS ITSELF\"***\n",
    "* ADV: makes code clean, complex task into simple sub tasks, sequence geenration is easier than nested functions\n",
    "* DISADV: logic is hard to follow, expensive(use many comp resources), hard to debug"
   ]
  },
  {
   "cell_type": "markdown",
   "metadata": {},
   "source": [
    "* **Examples of recursive function**"
   ]
  },
  {
   "cell_type": "code",
   "execution_count": 30,
   "metadata": {},
   "outputs": [
    {
     "name": "stdout",
     "output_type": "stream",
     "text": [
      "2\n"
     ]
    }
   ],
   "source": [
    "# FACTORIAL OF A NUMBER\n",
    "\n",
    "def factnum(n):\n",
    "    if n == 0:\n",
    "        print(\"factorial is 1\")\n",
    "    elif n <0:\n",
    "        print('enter the valid number')\n",
    "    elif n == 1:\n",
    "        return 1\n",
    "    else:\n",
    "        return (n * factnum(n-1))\n",
    "    \n",
    "num = int(input(\"num plz! \"))\n",
    "fact = factnum(num)\n",
    "print(fact)"
   ]
  },
  {
   "cell_type": "markdown",
   "metadata": {},
   "source": [
    "#### ANONYMOUS / LAMBDA FUNCTIONS\n",
    "\n",
    "* Anonymous cuz no function name\n",
    "* instead of def, lambda keyword is used\n",
    "* syntax: \n",
    "    ````lambda arguments(can be multiple): statement (only one)````\n",
    "* uses: when nameless func required for short time or in higher order functions(function which have functions as the arguments) as an argument.\n",
    "\n",
    " "
   ]
  },
  {
   "cell_type": "code",
   "execution_count": 31,
   "metadata": {},
   "outputs": [
    {
     "name": "stdout",
     "output_type": "stream",
     "text": [
      "4\n"
     ]
    }
   ],
   "source": [
    "# EXAMPLE\n",
    "\n",
    "double = lambda x: x*2 # MUST SPECIFY THE VARIABLE\n",
    "print (double(2))"
   ]
  },
  {
   "cell_type": "markdown",
   "metadata": {},
   "source": [
    "##### filter():\n",
    "\n",
    "* syntax: ````filter (function,  iterable)````\n",
    "* ***Returns an iterable which contains the items for which the function evaluates as true***"
   ]
  },
  {
   "cell_type": "code",
   "execution_count": 32,
   "metadata": {},
   "outputs": [
    {
     "name": "stdout",
     "output_type": "stream",
     "text": [
      "[2, 4, 10, 8]\n"
     ]
    }
   ],
   "source": [
    "# extract even numbers from list\n",
    "# WITHOUT FILTER\n",
    "\n",
    "def evenum(n):\n",
    "    numlist = []\n",
    "    for i in n:\n",
    "        if i % 2 == 0:\n",
    "            numlist.append(i)\n",
    "    return numlist\n",
    "\n",
    "mylist = [1,2,3,4,5,7,10,8,9,11]\n",
    "\n",
    "print(evenum(mylist))"
   ]
  },
  {
   "cell_type": "code",
   "execution_count": 34,
   "metadata": {},
   "outputs": [
    {
     "name": "stdout",
     "output_type": "stream",
     "text": [
      "[2, 4, 10, 8]\n"
     ]
    }
   ],
   "source": [
    "# WITH FILTER\n",
    "\n",
    "def evenum1(n):\n",
    "    if n % 2 == 0:\n",
    "        return True\n",
    "    else:\n",
    "        return False\n",
    "    \n",
    "mylist = [1,2,3,4,5,7,10,8,9,11]\n",
    "\n",
    "print(list(filter(evenum1, mylist)))"
   ]
  },
  {
   "cell_type": "code",
   "execution_count": 35,
   "metadata": {},
   "outputs": [
    {
     "name": "stdout",
     "output_type": "stream",
     "text": [
      "[2, 4, 10, 8]\n"
     ]
    }
   ],
   "source": [
    "# WITH FILTER AND LAMBDA\n",
    "  \n",
    "mylist = [1,2,3,4,5,7,10,8,9,11]\n",
    "print(list(filter(lambda n: n%2 == 0, mylist)))"
   ]
  },
  {
   "cell_type": "markdown",
   "metadata": {},
   "source": [
    "##### map():\n",
    "\n",
    "* syntax: ````map (function,  iterable)````\n",
    "* ***Returns an iterable which contains the items returned by that function for each time***"
   ]
  },
  {
   "cell_type": "code",
   "execution_count": 46,
   "metadata": {},
   "outputs": [
    {
     "name": "stdout",
     "output_type": "stream",
     "text": [
      "[2, 3, 4]\n"
     ]
    }
   ],
   "source": [
    "# Extracting doubles of the elements from the list\n",
    "# WITHOUT MAP\n",
    "\n",
    "def doblist(n):\n",
    "    numlist1 = []\n",
    "    for i in n:\n",
    "        i == i*2\n",
    "        numlist1.append(i)\n",
    "    return numlist1\n",
    "\n",
    "mylist = [2,3,4]\n",
    "\n",
    "print(doblist(mylist))"
   ]
  },
  {
   "cell_type": "code",
   "execution_count": 44,
   "metadata": {},
   "outputs": [
    {
     "name": "stdout",
     "output_type": "stream",
     "text": [
      "[1, 2, 3, 4, 5, 7, 10, 8, 9, 11]\n"
     ]
    }
   ],
   "source": [
    "# WITH MAP\n",
    "\n",
    "mylist = [1,2,3,4,5,7,10,8,9,11]\n",
    "\n",
    "def doblist2(n):\n",
    "    return n*2\n",
    "\n",
    "print(list(filter(doblist2, mylist)))"
   ]
  },
  {
   "cell_type": "code",
   "execution_count": 47,
   "metadata": {},
   "outputs": [
    {
     "name": "stdout",
     "output_type": "stream",
     "text": [
      "[1, 2, 3, 4, 5, 7, 10, 8, 9, 11]\n"
     ]
    }
   ],
   "source": [
    "# WITH FILTER AND LAMBDA\n",
    "\n",
    "mylist = [1,2,3,4,5,7,10,8,9,11]\n",
    "\n",
    "print(list(filter(lambda n: n*2, mylist)))"
   ]
  }
 ],
 "metadata": {
  "kernelspec": {
   "display_name": "Python 3",
   "language": "python",
   "name": "python3"
  },
  "language_info": {
   "codemirror_mode": {
    "name": "ipython",
    "version": 3
   },
   "file_extension": ".py",
   "mimetype": "text/x-python",
   "name": "python",
   "nbconvert_exporter": "python",
   "pygments_lexer": "ipython3",
   "version": "3.11.0"
  }
 },
 "nbformat": 4,
 "nbformat_minor": 2
}
