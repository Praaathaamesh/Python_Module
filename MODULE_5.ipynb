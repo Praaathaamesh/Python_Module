{
 "cells": [
  {
   "cell_type": "markdown",
   "metadata": {},
   "source": [
    "# OOP"
   ]
  },
  {
   "cell_type": "markdown",
   "metadata": {},
   "source": [
    "* Introduction:\n",
    "    * \"A programming paradigm that provides a mean of structuring a program in such a way that the properties and behaviours of an objects are bundled together.\"\n",
    "    * Objects are centre of OOP (cuz they provide structure and data to the program).\n",
    "    * Object characteristics: Props/attri and behaviour\n",
    "    * Main concept of OOP: DRY (dont repeat yourself) i.e. focus on creating reusable code.\n",
    "\n",
    "* Why OOP?\n",
    "    * primitive ds (numbers, strings, etc) represent simple data.\n",
    "    * Objects represent more complex data.\n",
    "    * For instance,\n",
    "\n",
    "```python\n",
    "# if u want to organise the employee data\n",
    "# simple way is to use lists\n",
    "kirk = ['name', 'age', 'id']\n",
    "bob = ['name', 'age', 'id']\n",
    "ken = ['name', 'age', 'id']\n",
    "# what if in some entries age is missing\n",
    "# what if you want to access someones name and you forget the name of list? (to call the name u have to use kirk[0]!)\n",
    "# >>>> THERE IS MORE COMPREHENSIVE WAY TO DO IT\n",
    "```"
   ]
  },
  {
   "cell_type": "markdown",
   "metadata": {},
   "source": [
    "* Classes: create user defined data structure (a design of the code; doesnt contain any actual data.) and have functions called methods.\n",
    "* methods:  define the behavour of an object.\n",
    "* Instance: Object that is built from a class (has actual data in it)"
   ]
  },
  {
   "cell_type": "code",
   "execution_count": 5,
   "metadata": {},
   "outputs": [
    {
     "name": "stdout",
     "output_type": "stream",
     "text": [
      "miles is 3 years old.\n",
      "Buddy\n"
     ]
    }
   ],
   "source": [
    "# Let us create a class with class keyword.\n",
    "class Dog:\n",
    "    species = \"Canis familiaris\" # CLASS ATTRIBUTE (Not specific to any instance, same throughout the whole class)\n",
    "    #class instance is directly below the first line\n",
    "    # must have initial value\n",
    "    # define/initialise properties of dog using __init__() method. (states an initial state of an object by assigning values to the properties)\n",
    "    def __init__(self, name, age): # any number of parameters, first will always be self (cuz new created instance is passed directly to the self parameter, to define a new attribute)\n",
    "        self.name=  name\n",
    "        self.age  = age\n",
    "        # .name and .age are INSTANCE attributes which has notations as name and age, respectively.\n",
    "        # here name and age are INSTANCE ATTRIBUTES (they are specific to one instance, varies throughout the whole class)\n",
    "    \n",
    "    def description(self): # INSTANCE METHODS (functions in class which can only be called from instance of a class)\n",
    "        print(f\"{self.name} is {self.age} years old.\")\n",
    "# Instantiating an object\n",
    "        try:\n",
    "            Dog() # first object (stored at diff memory location)\n",
    "            Dog() # second object (stored at diff memory location)\n",
    "        # Please provide values to avoid TypeError()\n",
    "        except:\n",
    "            buddy_obj = Dog(\"Buddy\", 2) # this whole thing is an INSTANCE and buddy_obj is an OBJECT\n",
    "        print(buddy_obj.name)\n",
    "miles_obj = Dog(\"miles\", 3)\n",
    "miles_obj.description()"
   ]
  },
  {
   "cell_type": "markdown",
   "metadata": {},
   "source": [
    "* Access instance and class att using dot\n",
    "    ```python\n",
    "    buddy_obj.name\n",
    "    #>>> 'Buddy'\n",
    "    ```\n",
    "* can also be changed dynamically\n",
    "```python\n",
    "buddy_obj.age = 10\n",
    "buddy_obj.age\n",
    "#>>>> 10\n",
    "```"
   ]
  },
  {
   "cell_type": "markdown",
   "metadata": {},
   "source": [
    "* constructors:\n",
    "    * use: to instantiate an obj\n",
    "    * __init__() is an constructor\n",
    "    * types: \n",
    "        default constructor: (doesnt accept args, has only one arg 'self')\n",
    "        parameterised constructor: (accepts args, has more than one args apart from 'self', self is taken as ref for the instance; other args are given by the programmer!)\n",
    "    * example:\n",
    "    ```python\n",
    "    def __init__(self):\n",
    "        self.x = 'abc' #DEFAULT CONS\n",
    "    def __init__(self, name, age):\n",
    "        self.name = name\n",
    "        self.age = age #PARAMETERISED CONS\n",
    "    ```\n",
    "\n",
    "* Destructors:\n",
    "    * __del__() method in python (keyword is del)\n",
    "    * not much needed in python (garbage collector lang; handle memory management automatically)"
   ]
  },
  {
   "cell_type": "markdown",
   "metadata": {},
   "source": [
    "* core concepts of OOP\n",
    "    \n",
    "    * Abstraction: \n",
    "        * goal: handles complexity by hiding unnecessary details from user (hence once can implement complex logic without thinking much about the hidden complexity)\n",
    "        * very generic concept; not only limited to OOP\n",
    "        * example: coffee machine user and his understanding of machines internal design\n",
    "\n",
    "    * Inheritance:\n",
    "        * \"PARENT CHILD RELATIONSHIP\"\n",
    "        * goal: to derive one class from another class; for heirarchy of classes; that share the atts and methods.\n",
    "                to create new class while using details of existing class without modding it.\n",
    "        * syntax: \n",
    "        ```\n",
    "        class Baseclass:\n",
    "            <baseclass Body>\n",
    "        class Derivedclass(Baseclass):\n",
    "            <Body of derived class> (inherits features from baseclass and also has new features added to it)\n",
    "        ``` \n",
    "        * Types:\n",
    "            * Single inheritance: one derived class inherits from only one baseclass\n",
    "            * Hierarchial: many derived classes inherit from only one baseclass\n",
    "            * Multiple: one derived class inherits from many baseclasses\n",
    "            * multilevel: Classes with child and grandchild relationship\n",
    "            * hybrid: combines more than one form of inheritance.\n",
    "\n",
    "    \n",
    "    * Polymorphism:\n",
    "        * goal: To use common interface for multiple forms (if we have to colour a shape. we have diff shape options and we can colour them off with one colour)\n",
    "                To process obj differently based on their datatype\n",
    "                To access overriden(redefined methods from base class) methods and atts to fit the derived class\n",
    "        * differenct classes have methods with same name.\n",
    "        * Types: static polymorph/method overloading and dynamic polymorph/method overriding/runtime polymorph\n",
    "            * method overloading: one method with same name behaves differently based on args passed while calling, impossible in python\n",
    "            * method overriding: derived class having a method of its super or base class, call is resolved at runtime hence RUNTIME POLYMORPH\n",
    "\n",
    "    * Encapsulation:\n",
    "        * goal: To restrict access to methods to prevent direct modification of data\n",
    "        * \"Wrapping up data member and method together into single unit\"\n",
    "        * example: car driving (power steer is complex mech, but for a driver only steering wheel is visible)\n",
    "         \n",
    "\n"
   ]
  },
  {
   "cell_type": "code",
   "execution_count": 4,
   "metadata": {},
   "outputs": [
    {
     "data": {
      "text/plain": [
       "'Hello John, hope u are doing well!'"
      ]
     },
     "execution_count": 4,
     "metadata": {},
     "output_type": "execute_result"
    }
   ],
   "source": [
    "# SIMPLE INHERITANCE   \n",
    "class emp_info:\n",
    "\n",
    "    def __init__(self, name, age):\n",
    "        self.name = name\n",
    "        self.age = age\n",
    "    \n",
    "    def msg(self):\n",
    "        return f\"Hello {self.name}, hope u are doing well!\"\n",
    "    \n",
    "class sub_emp_info(emp_info):\n",
    "    pass\n",
    "\n",
    "emp1 = sub_emp_info(\"John\",22)\n",
    "emp1.msg()"
   ]
  },
  {
   "cell_type": "code",
   "execution_count": 5,
   "metadata": {},
   "outputs": [
    {
     "data": {
      "text/plain": [
       "'Hello John, you will be 9999 credited every month!'"
      ]
     },
     "execution_count": 5,
     "metadata": {},
     "output_type": "execute_result"
    }
   ],
   "source": [
    "# SIMPLE INHERITANCE WITH SUBCLASSING (CALLING CONSTRUCTOR __init__ FROM PARENT CLASS)\n",
    "\n",
    "class emp_info:\n",
    "\n",
    "    def __init__(self, name, age):\n",
    "        self.name = name\n",
    "        self.age = age\n",
    "    \n",
    "    def msg(self):\n",
    "        return f\"Hello {self.name}, hope u are doing well!\"\n",
    "    \n",
    "class sub_emp_info(emp_info):\n",
    "    def __init__(self, name, age,salary):\n",
    "        self.salary = salary\n",
    "        emp_info.__init__(self,name,age)\n",
    "\n",
    "    def wish(self):\n",
    "        return f'Hello {self.name}, you will be {self.salary} credited every month!'\n",
    "\n",
    "emp1 = sub_emp_info(\"John\",22,9999)\n",
    "emp1.wish()\n"
   ]
  },
  {
   "cell_type": "code",
   "execution_count": 6,
   "metadata": {},
   "outputs": [
    {
     "data": {
      "text/plain": [
       "'Hello John, you will be 9999 credited every month!'"
      ]
     },
     "execution_count": 6,
     "metadata": {},
     "output_type": "execute_result"
    }
   ],
   "source": [
    "# SINGLE INHERITENCE\n",
    "\n",
    "class emp_info:\n",
    "\n",
    "    def __init__(self, name, age):\n",
    "        self.name = name\n",
    "        self.age = age\n",
    "    \n",
    "    def msg(self):\n",
    "        return f\"Hello {self.name}, hope u are doing well!\"\n",
    "    \n",
    "class sub_emp_info(emp_info):\n",
    "    def __init__(self, name, age,salary):\n",
    "        self.salary = salary\n",
    "        emp_info.__init__(self,name,age)\n",
    "\n",
    "    def wish(self):\n",
    "        return f'Hello {self.name}, you will be {self.salary} credited every month!'\n",
    "\n",
    "emp1 = sub_emp_info(\"John\",22,9999)\n",
    "emp1.wish()"
   ]
  },
  {
   "cell_type": "code",
   "execution_count": 7,
   "metadata": {},
   "outputs": [
    {
     "name": "stdout",
     "output_type": "stream",
     "text": [
      "The area of a cicle is 50.24\n",
      "The circumference of the circle is 17.12\n"
     ]
    }
   ],
   "source": [
    "# MULTIPLE INHERITANCE\n",
    "# Multiple parent classes and one child class\n",
    "\n",
    "class dim:\n",
    "    def __init__(self,r):\n",
    "        self.r = r\n",
    "\n",
    "class calc:\n",
    "    def __init__(self,r):\n",
    "        self.r = r\n",
    "    def area(self):\n",
    "        return (3.14*((self.r)**2))\n",
    "    def circum(self):\n",
    "        return (2*(self.r)*2.14)\n",
    "\n",
    "class Circ(dim, calc):\n",
    "    def __init__(self, r):\n",
    "        calc.__init__(self,r)\n",
    "        dim.__init__(self,r)\n",
    "    def display(self):\n",
    "        AREA = self.area()\n",
    "        CIRCUM = self.circum()\n",
    "        print(\"The area of a cicle is\", AREA)\n",
    "        print(\"The circumference of the circle is\", CIRCUM)\n",
    "\n",
    "x = Circ(float(input(\"Please enter the radius: \")))\n",
    "FINAL = x.display()"
   ]
  },
  {
   "cell_type": "code",
   "execution_count": 11,
   "metadata": {},
   "outputs": [
    {
     "name": "stdout",
     "output_type": "stream",
     "text": [
      "The height of the cone is 3.3166247903554\n",
      "The circumference of the base of the cone is 31.400000000000002\n",
      "The Base area of the cone is 78.5\n",
      "The volume of the cone is 260.3550460428989\n",
      "The surface area of the cone is 35.63412288640845\n"
     ]
    }
   ],
   "source": [
    "# MULTILEVEL INHERITANCE\n",
    "\n",
    "import math\n",
    "class Cone:\n",
    "    def __init__(self,r,l):\n",
    "        self.r = r\n",
    "        self.l = l\n",
    "    def Cirf(self):\n",
    "        return (3.14*(self.r)*2)\n",
    "    def height(self):\n",
    "        return (math.sqrt((self.l)**2-(self.r)**2))\n",
    "\n",
    "class calc_Barea_vol(Cone):\n",
    "    def Barea(self):\n",
    "        return (3.14*((self.r)**2))\n",
    "    def calc_vol(self):\n",
    "        return (3.14*((self.r)**2))*(math.sqrt((self.l)**2-(self.r)**2))\n",
    "\n",
    "class calc_SurArea_Display(calc_Barea_vol):\n",
    "    def __init__(self, r, l):\n",
    "        calc_Barea_vol.__init__(self, r, l)\n",
    "        Cone.__init__(self, r, l)\n",
    "    def calc_surf_area(self):\n",
    "        return ((3.14*((self.r)**2))/3+((3.14*(self.r)*2))/(math.sqrt((self.l)**2-(self.r)**2)))\n",
    "    def display(self):\n",
    "        H = self.height()\n",
    "        CIRCUM = self.Cirf()\n",
    "        BAREA = self.Barea()\n",
    "        VOL = self.calc_vol()\n",
    "        SURF = self.calc_surf_area()\n",
    "\n",
    "        print(f\"The height of the cone is {H}\")\n",
    "        print(f\"The circumference of the base of the cone is {CIRCUM}\")\n",
    "        print(f\"The Base area of the cone is {BAREA}\")\n",
    "        print(f\"The volume of the cone is {VOL}\")\n",
    "        print(f\"The surface area of the cone is {SURF}\")\n",
    "\n",
    "R = float(input(\"Please enter the radius of the base of the cone: \"))\n",
    "L = float(input(\"Please enter the slant height of the cone: \"))\n",
    "\n",
    "obj_x = calc_SurArea_Display(R,L)\n",
    "obj_x.display()"
   ]
  },
  {
   "cell_type": "code",
   "execution_count": 12,
   "metadata": {},
   "outputs": [
    {
     "name": "stdout",
     "output_type": "stream",
     "text": [
      "the volume of the cone is 260.3550460428989 cubic cms\n",
      "The surface area of the cone is 35.63412288640845 sq.cms\n"
     ]
    }
   ],
   "source": [
    "# HIERARCHIAL INHERITANCE\n",
    "\n",
    "import math\n",
    "class Cone:\n",
    "    def __init__(self,r,l):\n",
    "        self.r = r\n",
    "        self.l = l\n",
    "    def Barea(self):\n",
    "        return (3.14*((self.r)**2))\n",
    "    def Cirf(self):\n",
    "        return (3.14*(self.r)*2)\n",
    "    def height(self):\n",
    "        return (math.sqrt((self.l)**2-(self.r)**2))\n",
    "class Vol(Cone):\n",
    "    def calc_vol(self):\n",
    "        return (3.14*((self.r)**2))*(math.sqrt((self.l)**2-(self.r)**2))\n",
    "class Sur_area(Cone):\n",
    "    def calc_surf_area(self):\n",
    "        return ((3.14*((self.r)**2))/3+((3.14*(self.r)*2))/(math.sqrt((self.l)**2-(self.r)**2)))\n",
    "\n",
    "R = float(input(\"Please enter a radius of the base \"))\n",
    "L = float(input(\"Please enter a slant height \"))\n",
    "VOL = Vol(R,L)\n",
    "SUR = Sur_area(R,L)\n",
    "print(f\"the volume of the cone is {VOL.calc_vol()} cubic cms\") \n",
    "print(f\"The surface area of the cone is {SUR.calc_surf_area()} sq.cms\")"
   ]
  },
  {
   "cell_type": "code",
   "execution_count": 13,
   "metadata": {},
   "outputs": [
    {
     "name": "stdout",
     "output_type": "stream",
     "text": [
      "im a cat. my name is max. Im 9 years old.\n",
      "meow\n",
      "im a dog. my name is rango. Im 7 years old.\n",
      "bark\n"
     ]
    }
   ],
   "source": [
    "# SIMPLE POLMORPH\n",
    "\n",
    "class cat:\n",
    "    def __init__(self, name, age):\n",
    "        self.name = name\n",
    "        self.age = age\n",
    "    def info(self):\n",
    "        print(f\"im a cat. my name is {self.name}. Im {self.age} years old.\")\n",
    "    def sound(self):\n",
    "        print(\"meow\")\n",
    "\n",
    "class dog:\n",
    "    def __init__(self, name, age):\n",
    "        self.name = name\n",
    "        self.age = age\n",
    "    def info(self):\n",
    "        print(f\"im a dog. my name is {self.name}. Im {self.age} years old.\")\n",
    "    def sound(self):\n",
    "        print(\"bark\")\n",
    "\n",
    "cat1 = cat(\"max\", 9)\n",
    "dog1 = dog(\"rango\", 7)\n",
    "\n",
    "for i in (cat1,dog1):\n",
    "    i.info()\n",
    "    i.sound()"
   ]
  },
  {
   "cell_type": "code",
   "execution_count": 14,
   "metadata": {},
   "outputs": [
    {
     "name": "stdout",
     "output_type": "stream",
     "text": [
      "Just to initialise\n",
      "Just to initialise\n",
      "Just to initialise\n",
      "many fly; not all can fly\n",
      "many birds are there\n",
      "sparroe can fly\n",
      "many birds are there\n",
      "penguin cant fly\n",
      "many birds are there\n"
     ]
    }
   ],
   "source": [
    "# METHOD OVERRIDING\n",
    "\n",
    "class bird:\n",
    "    def __init__(self):\n",
    "        print(\"Just to initialise\")\n",
    "    def intro(self):\n",
    "        print(\"many birds are there\")\n",
    "    def flight(self):\n",
    "        print(\"many fly; not all can fly\")\n",
    "\n",
    "class sparrow(bird):\n",
    "    def flight(self):\n",
    "        print(\"sparroe can fly\")\n",
    "        \n",
    "class penguin(bird):\n",
    "    def flight(self):\n",
    "        print(\"penguin cant fly\")\n",
    "\n",
    "bird_obj = bird()\n",
    "spa_obj = sparrow()\n",
    "peng_obj = penguin()\n",
    "\n",
    "bird_obj.flight()\n",
    "bird_obj.intro()\n",
    "\n",
    "spa_obj.flight()\n",
    "spa_obj.intro()\n",
    "\n",
    "peng_obj.flight()\n",
    "peng_obj.intro()"
   ]
  },
  {
   "cell_type": "code",
   "execution_count": 16,
   "metadata": {},
   "outputs": [
    {
     "name": "stdout",
     "output_type": "stream",
     "text": [
      "selling price900\n"
     ]
    }
   ],
   "source": [
    "# ENCAPSULATION\n",
    "\n",
    "# No encapsulation\n",
    "class computer:\n",
    "    def __init__(self):\n",
    "        self.maxprice = 900\n",
    "    def sell(self):\n",
    "        print(f\"selling price{self.maxprice}\")\n",
    "x = computer()\n",
    "x.sell()\n"
   ]
  },
  {
   "cell_type": "code",
   "execution_count": 18,
   "metadata": {},
   "outputs": [
    {
     "name": "stdout",
     "output_type": "stream",
     "text": [
      "selling price900\n",
      "selling price900\n"
     ]
    }
   ],
   "source": [
    "# with encaps\n",
    "class computer:\n",
    "    def __init__(self):\n",
    "        self.__maxprice = 900 #made .maxprice att private by adding one or two underscores\n",
    "    def sell(self):\n",
    "        print(f\"selling price{self.__maxprice}\")\n",
    "x = computer()\n",
    "x.sell()\n",
    "x.maxprice = 1200\n",
    "x.sell() #still shows 900"
   ]
  }
 ],
 "metadata": {
  "kernelspec": {
   "display_name": "Python 3",
   "language": "python",
   "name": "python3"
  },
  "language_info": {
   "codemirror_mode": {
    "name": "ipython",
    "version": 3
   },
   "file_extension": ".py",
   "mimetype": "text/x-python",
   "name": "python",
   "nbconvert_exporter": "python",
   "pygments_lexer": "ipython3",
   "version": "3.11.0"
  }
 },
 "nbformat": 4,
 "nbformat_minor": 2
}
