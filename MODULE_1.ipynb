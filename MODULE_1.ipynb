{
 "cells": [
  {
   "cell_type": "code",
   "execution_count": 1,
   "metadata": {},
   "outputs": [
    {
     "name": "stdout",
     "output_type": "stream",
     "text": [
      "63772.3621\n",
      "63773\n",
      "63772.3621\n",
      "63772\n",
      "4066914167.813516\n",
      "63772.36\n",
      "252.5319031330497\n",
      "2\n"
     ]
    }
   ],
   "source": [
    "import math\n",
    "x = 63772.3621\n",
    "y = 2\n",
    "print(abs(x)) #Return the absolute value of the argument.\n",
    "print(math.ceil(x)) #Return the ceiling of x as an Integral. This is the smallest integer >= x.\n",
    "print(math.fabs(x)) #Return the absolute value of the float x.\n",
    "print(math.floor(x)) #Return the floor of x as an Integral. This is the largest integer <= x.\n",
    "print(pow(x,y)) #y expo of x\n",
    "print(round(x, 2)) # rounded up value has two arguments one for the actual number and other as the number digits to be displayed after the decimal\n",
    "print(math.sqrt(x)) #Return the square root of x.\n",
    "print (min(2,5,6,7,5,5,7778,34)) \n"
   ]
  },
  {
   "cell_type": "code",
   "execution_count": 2,
   "metadata": {},
   "outputs": [
    {
     "name": "stdout",
     "output_type": "stream",
     "text": [
      "0.15700178894632466\n"
     ]
    }
   ],
   "source": [
    "import random\n",
    "\n",
    "# Python program for generating random float number      \n",
    "num=random.random()    \n",
    "print(num) \n",
    "\n"
   ]
  },
  {
   "cell_type": "code",
   "execution_count": 3,
   "metadata": {},
   "outputs": [
    {
     "name": "stdout",
     "output_type": "stream",
     "text": [
      "1\n",
      "5\n"
     ]
    }
   ],
   "source": [
    "# To generate value between a specific range  \n",
    "import random    \n",
    "num = random.randrange(1, 10)    \n",
    "print( num )    \n",
    "num = random.randrange(1, 10, 2)    \n",
    "print( num )"
   ]
  },
  {
   "cell_type": "code",
   "execution_count": 4,
   "metadata": {},
   "outputs": [
    {
     "name": "stdout",
     "output_type": "stream",
     "text": [
      "M\n",
      "45\n",
      "34\n"
     ]
    }
   ],
   "source": [
    "# To select a random element  \n",
    "import random  \n",
    "random_s = random.choice('Random Module') #a string  \n",
    "print( random_s )  \n",
    "random_l = random.choice([23, 54, 765, 23, 45, 45]) #a list  \n",
    "print( random_l )  \n",
    "random_s = random.choice((12, 64, 23, 54, 34)) #a set  \n",
    "print( random_s ) "
   ]
  },
  {
   "cell_type": "code",
   "execution_count": 5,
   "metadata": {},
   "outputs": [
    {
     "name": "stdout",
     "output_type": "stream",
     "text": [
      "[23, 65, 23, 43, 86, 34]\n",
      "[23, 34, 86, 23, 43, 65]\n"
     ]
    }
   ],
   "source": [
    "# To shuffle elements in the list  \n",
    "list1 = [34, 23, 65, 86, 23, 43]    \n",
    "random.shuffle( list1 )    \n",
    "print( list1 )    \n",
    "random.shuffle( list1 )    \n",
    "print( list1 )"
   ]
  },
  {
   "cell_type": "code",
   "execution_count": 6,
   "metadata": {},
   "outputs": [
    {
     "name": "stdout",
     "output_type": "stream",
     "text": [
      "0.5714025946899135\n"
     ]
    }
   ],
   "source": [
    "import random\n",
    "'''Initialize internal state from a seed.\n",
    "\n",
    "The only supported seed types are None, int, float,\n",
    "str, bytes, and bytearray.\n",
    "\n",
    "None or no argument seeds from current time or from an operating\n",
    "system specific randomness source if available.\n",
    "\n",
    "If a is an int, all bits are used.\n",
    "\n",
    "For version 2 (the default), all of the bits are used if a is a str,\n",
    "bytes, or bytearray. For version 1 (provided for reproducing random\n",
    "sequences from older versions of Python), the algorithm for str and\n",
    "bytes generates a narrower range of seeds.\n",
    "'''\n",
    "random.seed(10)\n",
    "print(random.random())\n"
   ]
  },
  {
   "cell_type": "code",
   "execution_count": 7,
   "metadata": {},
   "outputs": [
    {
     "name": "stdout",
     "output_type": "stream",
     "text": [
      "36.15333880427878\n"
     ]
    }
   ],
   "source": [
    "print(random.uniform(22,55)) #Here the arguments are a and b both are considered lowe and upper bound, respectively. Get a random number in the range [a, b] or [a, b] depending on rounding."
   ]
  },
  {
   "cell_type": "markdown",
   "metadata": {},
   "source": [
    "**Generating random dna string using random module**\n"
   ]
  },
  {
   "cell_type": "code",
   "execution_count": 1,
   "metadata": {},
   "outputs": [
    {
     "name": "stdout",
     "output_type": "stream",
     "text": [
      "GTAGGATTTGTAGACATGACGCGCTCCGCT\n"
     ]
    }
   ],
   "source": [
    "import random\n",
    "\n",
    "Bases = ['A', 'G', 'C', 'T']\n",
    "\n",
    "DNASTR = ''.join(random.choice(Bases) for _ in range(30))\n",
    "print(DNASTR)"
   ]
  }
 ],
 "metadata": {
  "kernelspec": {
   "display_name": "Python 3",
   "language": "python",
   "name": "python3"
  },
  "language_info": {
   "codemirror_mode": {
    "name": "ipython",
    "version": 3
   },
   "file_extension": ".py",
   "mimetype": "text/x-python",
   "name": "python",
   "nbconvert_exporter": "python",
   "pygments_lexer": "ipython3",
   "version": "3.11.0"
  }
 },
 "nbformat": 4,
 "nbformat_minor": 2
}
