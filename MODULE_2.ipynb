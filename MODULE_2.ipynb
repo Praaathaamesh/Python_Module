{
 "cells": [
  {
   "cell_type": "markdown",
   "metadata": {},
   "source": [
    "# LISTS\n",
    "* Ordered Mutable Indexed Can contain different datatypes\n",
    "* Data structure that stored ordered collection of items\n"
   ]
  },
  {
   "cell_type": "code",
   "execution_count": 1,
   "metadata": {},
   "outputs": [],
   "source": [
    "# Normal List\n",
    "List1 = [\"Item1\", \"Item2\", \"Item3\"]\n",
    "# Comma Separeted items \n",
    "#nested lists\n",
    "List2 = [List1, \"man\", \"dog\"]\n"
   ]
  },
  {
   "cell_type": "markdown",
   "metadata": {},
   "source": [
    "**Access items in a list**\n",
    "* By negetive indexing\n",
    "* Slicing \n",
    "* Defining an index of an item\n",
    "* Loop through the item of the list"
   ]
  },
  {
   "cell_type": "code",
   "execution_count": 4,
   "metadata": {},
   "outputs": [
    {
     "name": "stdout",
     "output_type": "stream",
     "text": [
      "334\n",
      "[22, 5, 675, 8886, 334]\n",
      "8886\n",
      "[8886, 334]\n",
      "[22, 5, 'god', 8886, 334]\n",
      "item 1: 22\n",
      "item 2: 5\n",
      "item 3: god\n",
      "item 4: 8886\n",
      "item 5: 334\n",
      "\n",
      "\n",
      "22\n",
      "5\n",
      "god\n",
      "[23, 369, 1152, 56621, 45512, 57]\n"
     ]
    }
   ],
   "source": [
    "mynums = [22, 5, 675, 8886, 334]\n",
    "print(mynums[4])\n",
    "print(mynums[0:])\n",
    "print(mynums[-2])\n",
    "print(mynums[-2:])\n",
    "\n",
    "#Changing a value\n",
    "mynums[2] = \"god\"\n",
    "print(mynums)\n",
    "\n",
    "#Loop throught the items of the list\n",
    "\n",
    "\n",
    "int1 = 1\n",
    "while int1 <= len(mynums):\n",
    "    for i in mynums:\n",
    "        print(f\"item {int1}:\",i)\n",
    "        int1 += 1\n",
    "\n",
    "print(\"\\n\")\n",
    "\n",
    "#Use range function\n",
    "for ii in range(0,3):\n",
    "    print(mynums[ii])\n",
    "\n",
    "#Join, delete items, repeat items\n",
    "mynums2 = [55,23,369,1152,56621,45512,57]\n",
    "list3 = mynums + mynums2\n",
    "list4 = mynums *2\n",
    "del mynums2[0]\n",
    "print(mynums2)"
   ]
  },
  {
   "cell_type": "markdown",
   "metadata": {},
   "source": [
    "**Using List() constructor **\n",
    "* Convert to a list \n",
    "* copy a list"
   ]
  },
  {
   "cell_type": "code",
   "execution_count": 5,
   "metadata": {},
   "outputs": [
    {
     "name": "stdout",
     "output_type": "stream",
     "text": [
      "New list: [55, 22, 3333, 666, 44, 1]\n",
      "Copy of the list: [55, 22, 3333, 666, 44, 1]\n"
     ]
    }
   ],
   "source": [
    "#List() use\n",
    "\n",
    "#Make\n",
    "mynums3 = list((55,22,3333,666,44,1))\n",
    "print(\"New list:\", mynums3)\n",
    "\n",
    "#Copy\n",
    "copy1 = list(mynums3)\n",
    "print(\"Copy of the list:\", copy1)"
   ]
  },
  {
   "cell_type": "markdown",
   "metadata": {},
   "source": [
    "**List Methods**\n",
    "\n",
    "* append()\n",
    "* clear(), copy(), count()\n",
    "* extend()\n",
    "* index(), insert()\n",
    "* pop()\n",
    "* remove(), reverse()\n",
    "* sort()\n"
   ]
  },
  {
   "cell_type": "code",
   "execution_count": 6,
   "metadata": {},
   "outputs": [
    {
     "name": "stdout",
     "output_type": "stream",
     "text": [
      "['banana', 'apple', 'cherry', 'kiwi', 'mango']\n",
      "['banana', 'apple', 'cherry', 'kiwi', 'mango', 22, 5, 'god', 8886, 334]\n",
      "['banana', 'apple', 'Papaya', 'cherry', 'kiwi', 'mango', 22, 5, 'god', 8886, 334]\n",
      "\n",
      "\n",
      "['apple', 'Papaya', 'cherry', 'kiwi', 'mango', 22, 5, 'god', 8886, 334]\n",
      "['apple', 'cherry', 'kiwi', 'mango', 22, 5, 'god', 8886, 334]\n",
      "[]\n",
      "\n",
      "\n",
      "['vfv', 'dfweef', 'sefef']\n",
      "['sefef', 'dfweef', 'vfv']\n",
      "\n",
      "\n",
      "['sefef', 'dfweef', 'vfv']\n",
      "['dfweef', 'sefef', 'vfv']\n"
     ]
    }
   ],
   "source": [
    "fruits = ['banana', 'apple', 'cherry', 'kiwi']\n",
    "# can append any value int/var/float\n",
    "fruits.append(\"mango\")\n",
    "print(fruits)\n",
    "#Add an iterable like a list\n",
    "fruits.extend(mynums)\n",
    "print(fruits)\n",
    "#Insert an item using its index\n",
    "fruits.insert(2, \"Papaya\") #needs two arguments one is index and other is element\n",
    "print(fruits)\n",
    "\n",
    "print(\"\\n\")\n",
    "\n",
    "#remove\n",
    "fruits.remove('banana')\n",
    "print(fruits)\n",
    "# remove an item using its index\n",
    "fruits.pop(1) # ned an argument index\n",
    "print(fruits)\n",
    "#wipe the list to preseent an empty list\n",
    "fruits.clear()\n",
    "print(fruits)\n",
    "\n",
    "print(\"\\n\")\n",
    "\n",
    "#Copy\n",
    "fruits2 = [\"vfv\", \"dfweef\",\"sefef\"]\n",
    "copy3 = fruits2.copy()\n",
    "print(copy3)\n",
    "#reverse\n",
    "fruits2.reverse()\n",
    "print(fruits2)\n",
    "\n",
    "print(\"\\n\")\n",
    "\n",
    "#count\n",
    "fruits2.count(\"vfv\")\n",
    "print(fruits2)\n",
    "#sort\n",
    "#According ASCII\n",
    "fruits2.sort() #takes two arguments one is reverse = T/F and key = (User function)\n",
    "print(fruits2)"
   ]
  },
  {
   "cell_type": "markdown",
   "metadata": {},
   "source": [
    "**Additional List Methods**\n",
    "\n",
    "* ***Splitting list into a string***\n",
    "split(), rsplit()\n",
    "splitlines()\n",
    "\n",
    "* **Joining list into a string**\n",
    "<br>\n",
    "join() (A list method) <br>\n"
   ]
  },
  {
   "cell_type": "code",
   "execution_count": 7,
   "metadata": {},
   "outputs": [
    {
     "name": "stdout",
     "output_type": "stream",
     "text": [
      "['This', 'is', 'good']\n",
      "['This', 'is', 'good']\n",
      "['This', 'is ', 'my', 'home']\n"
     ]
    }
   ],
   "source": [
    "#split()- splits the string using separator like a blank space or you can justify it using the separator parameter\n",
    "\n",
    "str1 = \"This is good\"\n",
    "strlist = str1.split()\n",
    "print(strlist)\n",
    "\n",
    "#rsplit() splits from right \n",
    "str1 = \"This is good\"\n",
    "strlist = str1.rsplit()\n",
    "print(strlist)\n",
    "\n",
    "#splitlines()\n",
    "str2 = \"This\\nis \\nmy\\nhome\"\n",
    "strlist2 = str2.splitlines()\n",
    "print(strlist2)"
   ]
  },
  {
   "cell_type": "code",
   "execution_count": 8,
   "metadata": {},
   "outputs": [
    {
     "name": "stdout",
     "output_type": "stream",
     "text": [
      "[55, 22, 3333, 666, 44, 1]\n"
     ]
    }
   ],
   "source": [
    "x = ''.join(str(mynums3)) #typecasting is required here because the list has all the inetegers\n",
    "print(x)"
   ]
  },
  {
   "cell_type": "code",
   "execution_count": 9,
   "metadata": {},
   "outputs": [
    {
     "name": "stdout",
     "output_type": "stream",
     "text": [
      "['2', '3']\n"
     ]
    }
   ],
   "source": [
    "#For loop and insert to make a user inputted list\n",
    "\n",
    "n = int(input(\"how many?\"))\n",
    "var1 = []\n",
    "for i in range(0,n):\n",
    "    var1.append(input(\"Give: \"))\n",
    "print(var1)"
   ]
  },
  {
   "cell_type": "markdown",
   "metadata": {},
   "source": [
    "# TUPLES\n",
    "\n",
    "* Ordered, Indexed, Immutable, Duplicates allowed\n",
    "* syntax:"
   ]
  },
  {
   "cell_type": "code",
   "execution_count": 10,
   "metadata": {},
   "outputs": [],
   "source": [
    "Tupvar = (2,5,11,4,1)\n",
    "\n",
    "# Empty tuple \n",
    "tupvar2  = ()\n",
    "# Tuple with only one character \n",
    "tupvar2 = (22,) #Comma is given after one element"
   ]
  },
  {
   "cell_type": "markdown",
   "metadata": {},
   "source": [
    "**Accessing the elements**\n",
    "\n",
    "* Indexing (Both positive and negetive)\n",
    "* Slicing"
   ]
  },
  {
   "cell_type": "code",
   "execution_count": 11,
   "metadata": {},
   "outputs": [
    {
     "name": "stdout",
     "output_type": "stream",
     "text": [
      "<class 'tuple'>\n"
     ]
    }
   ],
   "source": [
    "# Any comma seperated object is of datatype tuple\n",
    "\n",
    "tupvar4 = 'car', 33, 4\n",
    "print(type(tupvar4))"
   ]
  },
  {
   "cell_type": "markdown",
   "metadata": {},
   "source": [
    "**Tuple operations**\n",
    "* tupes are immutable but one can assign values by typecasting it into a list and again typecasting into the tupe\n",
    "* Loop through the elems usinf for loop (with or without range)\n",
    "* Use membership operators to see if an elemeent is present in the tuple or not\n",
    "* len() to return the length\n",
    "* del keyword deletes the whole tupe\n",
    "* Join tupes using + and repeat using *\n",
    "* Tuple constructor: tuple((|Elements|)) Mind the two brackets\n",
    "* Tuple method:\n",
    "    * count()\n",
    "    * Index()\n",
    "* Can take input from the user\n",
    "* use join method of string to convert it into a tupe\n"
   ]
  },
  {
   "cell_type": "code",
   "execution_count": 15,
   "metadata": {},
   "outputs": [
    {
     "name": "stdout",
     "output_type": "stream",
     "text": [
      "1\n",
      "2\n",
      "('car', 33, 4)\n"
     ]
    }
   ],
   "source": [
    "print(tupvar4.count(33))\n",
    "print(tupvar4.index(4))\n",
    "\n",
    "print(''.join(str(tupvar4)))"
   ]
  },
  {
   "cell_type": "markdown",
   "metadata": {},
   "source": [
    "# SETS\n",
    "\n",
    "* Unordered(values are stored in heap memory not the stack memory that is not in an array), mutable (not if a forzenset), Unindexed, no duplicates are allowed.\n",
    "* Use when unordered collection of data is required that is when the existence of a data is appriciated more than the order\n",
    "* Syntax:\n"
   ]
  },
  {
   "cell_type": "code",
   "execution_count": 16,
   "metadata": {},
   "outputs": [
    {
     "name": "stdout",
     "output_type": "stream",
     "text": [
      "{2, 5, 22, 778, 94}\n"
     ]
    }
   ],
   "source": [
    "Setvar = {22,5,778,94,2}\n",
    "print(Setvar) # output will be jumbled"
   ]
  },
  {
   "cell_type": "markdown",
   "metadata": {},
   "source": [
    "**Set Operations**\n",
    "\n",
    "* use for loops (NO RANGE FUNCTION REQUIRED CUZ NOT ORDERED)\n",
    "* set() constructor"
   ]
  },
  {
   "cell_type": "code",
   "execution_count": 18,
   "metadata": {},
   "outputs": [
    {
     "name": "stdout",
     "output_type": "stream",
     "text": [
      "{'33', 1, 66, 2, 5}\n"
     ]
    }
   ],
   "source": [
    "setvar1 = set(('33', 5,66,1,2)) #Two brackets remember!\n",
    "print(setvar1)"
   ]
  },
  {
   "cell_type": "markdown",
   "metadata": {},
   "source": [
    "**Set methods**\n",
    "\n",
    "https://www.w3schools.com/python/python_ref_set.asp\n",
    "\n",
    "| Method                        | Shortcut | Description                                                                    |   |   |\n",
    "|-------------------------------|----------|--------------------------------------------------------------------------------|---|---|\n",
    "| add()                         |          | Adds an element to the set                                                     |   |   |\n",
    "| clear()                       |          | Removes all the elements from the set                                          |   |   |\n",
    "| copy()                        |          | Returns a copy of the set                                                      |   |   |\n",
    "| difference()                  | -        | Returns a set containing the difference between two or more sets               |   |   |\n",
    "| difference_update()           | -=       | Removes the items in this set that are also included in another, specified set |   |   |\n",
    "| discard()                     |          | Remove the specified item                                                      |   |   |\n",
    "| intersection()                | &        | Returns a set, that is the intersection of two other sets                      |   |   |\n",
    "| intersection_update()         | &=       | Removes the items in this set that are not present in other, specified set(s)  |   |   |\n",
    "| isdisjoint()                  |          | Returns whether two sets have a intersection or not                            |   |   |\n",
    "| issubset()                    | <=       | Returns whether another set contains this set or not                           |   |   |\n",
    "|                               | <        | Returns whether all items in this set is present in other, specified set(s)    |   |   |\n",
    "| issuperset()                  | >=       | Returns whether this set contains another set or not                           |      \n",
    "|                               | >        | Returns whether all items in other, specified set(s) is present in this set    |      \n",
    "| pop()                         |          | Removes an element from the set                                                |      \n",
    "| remove()                      |          | Removes the specified element                                                  |   \n",
    "| symmetric_difference()        | ^        | Returns a set with the symmetric differences of two sets                       |   \n",
    "| symmetric_difference_update() | ^=       | Inserts the symmetric differences from this set and another                    |  \n",
    "| union()                       | \\|       | Return a set containing the union of sets                                      |\n",
    "| update()                      | \\|=      | Update the set with the union of this set and others                           |   "
   ]
  },
  {
   "cell_type": "markdown",
   "metadata": {},
   "source": [
    "# DICTIONARY\n",
    "\n",
    "* Unordered, Mutable, Indexed, No duplicates are allowed\n",
    "* syntax:\n"
   ]
  },
  {
   "cell_type": "code",
   "execution_count": 20,
   "metadata": {},
   "outputs": [
    {
     "name": "stdout",
     "output_type": "stream",
     "text": [
      "{'car1': 'Porche', 'car2': 'Hyundai', 'car3': 'Mitsubishi'}\n"
     ]
    }
   ],
   "source": [
    "Dictvar = {\"car1\":\"Porche\", \"car2\":\"Hyundai\", \"car3\":\"Mitsubishi\"} # Key-Value pairs\n",
    "print(Dictvar)"
   ]
  },
  {
   "cell_type": "markdown",
   "metadata": {},
   "source": [
    "**Access values**\n",
    "\n",
    "In Python, there are several methods to access items in a dictionary. Here's a breakdown of some common ways:\n",
    "\n",
    " 1. **Accessing Values by Key**\n",
    "You can access a value by specifying the key inside square brackets (`[]`).\n",
    "\n",
    "**Example:**\n",
    "```python\n",
    "my_dict = {'name': 'Alice', 'age': 25}\n",
    "print(my_dict['name'])  # Output: Alice\n",
    "```\n",
    "\n",
    "- If the key exists, it will return the value.\n",
    "- If the key doesn’t exist, it will raise a `KeyError`.\n",
    "\n",
    " 2. **Using `get()` Method**\n",
    "The `get()` method allows you to access a value by key but avoids errors if the key doesn't exist. It returns `None` (or a default value) if the key isn't found.\n",
    "\n",
    "**Example:**\n",
    "```python\n",
    "my_dict = {'name': 'Alice', 'age': 25}\n",
    "print(my_dict.get('age'))          # Output: 25\n",
    "print(my_dict.get('gender', 'N/A'))  # Output: N/A (default value)\n",
    "```\n",
    "\n",
    " 3. **Accessing Keys**\n",
    "You can get all the keys in the dictionary using the `keys()` method. This returns a view object that displays the keys.\n",
    "\n",
    "**Example:**\n",
    "```python\n",
    "my_dict = {'name': 'Alice', 'age': 25}\n",
    "print(my_dict.keys())  # Output: dict_keys(['name', 'age'])\n",
    "```\n",
    "\n",
    " 4. **Accessing Values**\n",
    "The `values()` method returns all the values in the dictionary.\n",
    "\n",
    "**Example:**\n",
    "```python\n",
    "my_dict = {'name': 'Alice', 'age': 25}\n",
    "print(my_dict.values())  # Output: dict_values(['Alice', 25])\n",
    "```\n",
    "\n",
    " 5. **Accessing Both Keys and Values**\n",
    "You can get both keys and values at the same time using the `items()` method. It returns a view object with key-value pairs as tuples.\n",
    "\n",
    "**Example:**\n",
    "```python\n",
    "my_dict = {'name': 'Alice', 'age': 25}\n",
    "print(my_dict.items())  # Output: dict_items([('name', 'Alice'), ('age', 25)])\n",
    "```\n",
    "\n",
    " Summary:\n",
    "- `my_dict[key]`: Access value by key.\n",
    "- `my_dict.get(key, default)`: Access value safely, with an optional default value.\n",
    "- `my_dict.keys()`: Get all keys.\n",
    "- `my_dict.values()`: Get all values.\n",
    "- `my_dict.items()`: Get all key-value pairs.\n",
    "\n"
   ]
  },
  {
   "cell_type": "markdown",
   "metadata": {},
   "source": [
    "**Dictionary operations**\n",
    "\n",
    "In Python, dictionaries are a versatile data structure with several operations you can perform on them. Here are the common dictionary operations:\n",
    "\n",
    " 1. **Creating a Dictionary**\n",
    "You can create a dictionary using curly braces `{}` or the `dict()` function.\n",
    "\n",
    "**Example:**\n",
    "```python\n",
    "my_dict = {'name': 'Alice', 'age': 25}\n",
    "# Or using dict()\n",
    "my_dict = dict(name='Alice', age=25)\n",
    "```\n",
    "\n",
    " 2. **Accessing Elements**\n",
    "- Access a value by key using square brackets `[]`.\n",
    "- Use `get()` for safe access.\n",
    "\n",
    "**Example:**\n",
    "```python\n",
    "print(my_dict['name'])  # Output: Alice\n",
    "print(my_dict.get('age'))  # Output: 25\n",
    "```\n",
    "\n",
    " 3. **Adding or Updating Items**\n",
    "You can add new key-value pairs or update existing ones by assigning a value to a key.\n",
    "\n",
    "**Example:**\n",
    "```python\n",
    "my_dict['gender'] = 'Female'  # Adding\n",
    "my_dict['age'] = 26  # Updating\n",
    "print(my_dict)  # Output: {'name': 'Alice', 'age': 26, 'gender': 'Female'}\n",
    "```\n",
    "\n",
    " 4. **Removing Items**\n",
    "You can remove items from a dictionary using several methods:\n",
    "\n",
    "- `pop(key)`: Removes the item with the given key and returns its value.\n",
    "- `popitem()`: Removes and returns the last inserted key-value pair (for Python 3.7+).\n",
    "- `del`: Deletes the item with the given key.\n",
    "- `clear()`: Removes all items from the dictionary.\n",
    "\n",
    "**Example:**\n",
    "```python\n",
    "my_dict.pop('age')  # Removes 'age' key\n",
    "print(my_dict)  # Output: {'name': 'Alice', 'gender': 'Female'}\n",
    "\n",
    "my_dict.popitem()  # Removes last inserted item\n",
    "print(my_dict)  # Output: {'name': 'Alice'}\n",
    "\n",
    "del my_dict['name']  # Deletes 'name'\n",
    "print(my_dict)  # Output: {}\n",
    "\n",
    "my_dict.clear()  # Clears the dictionary\n",
    "print(my_dict)  # Output: {}\n",
    "```\n",
    "\n",
    " 5. **Checking if a Key Exists**\n",
    "You can check whether a key exists using the `in` keyword.\n",
    "\n",
    "**Example:**\n",
    "```python\n",
    "my_dict = {'name': 'Alice', 'age': 25}\n",
    "print('age' in my_dict)  # Output: True\n",
    "print('gender' in my_dict)  # Output: False\n",
    "```\n",
    "\n",
    " 6. **Looping Through a Dictionary**\n",
    "You can loop through the keys, values, or both key-value pairs:\n",
    "\n",
    "- Loop through keys:\n",
    "  ```python\n",
    "  for key in my_dict:\n",
    "      print(key)\n",
    "  ```\n",
    "\n",
    "- Loop through values:\n",
    "  ```python\n",
    "  for value in my_dict.values():\n",
    "      print(value)\n",
    "  ```\n",
    "\n",
    "- Loop through key-value pairs:\n",
    "  ```python\n",
    "  for key, value in my_dict.items():\n",
    "      print(key, value)\n",
    "  ```\n",
    "\n",
    " 7. **Merging Dictionaries**\n",
    "Use the `update()` method to merge one dictionary into another. This will overwrite the existing keys with the new ones.\n",
    "\n",
    "**Example:**\n",
    "```python\n",
    "dict1 = {'name': 'Alice', 'age': 25}\n",
    "dict2 = {'age': 26, 'city': 'New York'}\n",
    "dict1.update(dict2)\n",
    "print(dict1)  # Output: {'name': 'Alice', 'age': 26, 'city': 'New York'}\n",
    "```\n",
    "\n",
    " 8. **Copying a Dictionary**\n",
    "- Use the `copy()` method to create a shallow copy of the dictionary.\n",
    "  \n",
    "**Example:**\n",
    "```python\n",
    "copy_dict = my_dict.copy()\n",
    "```\n",
    "\n",
    " 9. **Dictionary Length**\n",
    "You can find the number of items in a dictionary using the `len()` function.\n",
    "\n",
    "**Example:**\n",
    "```python\n",
    "print(len(my_dict))  # Output: 2 (if there are 2 key-value pairs)\n",
    "```\n",
    "\n",
    " 10. **Default Values with `setdefault()`**\n",
    "The `setdefault()` method returns the value of a key if it exists, and if not, it inserts the key with a default value.\n",
    "\n",
    "**Example:**\n",
    "```python\n",
    "my_dict = {'name': 'Alice'}\n",
    "my_dict.setdefault('age', 25)  # Adds 'age' with default value 25 if not present\n",
    "print(my_dict)  # Output: {'name': 'Alice', 'age': 25}\n",
    "```\n",
    "\n",
    " Summary of Operations:\n",
    "- **Add/Update**: `my_dict[key] = value`\n",
    "- **Delete**: `pop()`, `popitem()`, `del`, `clear()`\n",
    "- **Check Key**: `key in my_dict`\n",
    "- **Merge**: `update()`\n",
    "- **Copy**: `copy()`\n",
    "- **Length**: `len(my_dict)`\n",
    "- **Set Default**: `setdefault()`\n",
    "\n"
   ]
  },
  {
   "cell_type": "markdown",
   "metadata": {},
   "source": [
    "**Methods**\n",
    "\n",
    "\n",
    "Here is a list of dictionary methods in Python:\n",
    "\n",
    "1. **`get(key[, default])`** – Returns the value for the specified key. If the key is not found, it returns the default value.\n",
    "2. **`keys()`** – Returns a view object containing all the keys in the dictionary.\n",
    "3. **`values()`** – Returns a view object containing all the values in the dictionary.\n",
    "4. **`items()`** – Returns a view object containing all the key-value pairs as tuples.\n",
    "5. **`update([other])`** – Updates the dictionary with elements from another dictionary or an iterable of key-value pairs.\n",
    "6. **`pop(key[, default])`** – Removes and returns the value for the specified key. If the key is not found, it returns the default value (if provided).\n",
    "7. **`popitem()`** – Removes and returns the last inserted key-value pair.\n",
    "8. **`setdefault(key[, default])`** – Returns the value of the key if it exists; otherwise, it inserts the key with the default value.\n",
    "9. **`clear()`** – Removes all items from the dictionary.\n",
    "10. **`copy()`** – Returns a shallow copy of the dictionary.\n",
    "11. **`fromkeys(seq[, value])`** – Creates a new dictionary with keys from the sequence and values set to a specified value (or `None` by default).\n",
    "\n"
   ]
  }
 ],
 "metadata": {
  "kernelspec": {
   "display_name": "Python 3",
   "language": "python",
   "name": "python3"
  },
  "language_info": {
   "codemirror_mode": {
    "name": "ipython",
    "version": 3
   },
   "file_extension": ".py",
   "mimetype": "text/x-python",
   "name": "python",
   "nbconvert_exporter": "python",
   "pygments_lexer": "ipython3",
   "version": "3.11.0"
  }
 },
 "nbformat": 4,
 "nbformat_minor": 2
}
